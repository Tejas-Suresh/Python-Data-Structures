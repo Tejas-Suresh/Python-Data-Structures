{
 "cells": [
  {
   "cell_type": "markdown",
   "metadata": {},
   "source": [
    "# Assignment 1"
   ]
  },
  {
   "cell_type": "code",
   "execution_count": 1,
   "metadata": {},
   "outputs": [
    {
     "name": "stdout",
     "output_type": "stream",
     "text": [
      "0.8475\n"
     ]
    }
   ],
   "source": [
    "text = \"X-DSPAM-Confidence:    0.8475\";\n",
    "pos=text.find('0')\n",
    "x=text[pos:pos+6]\n",
    "print(float(x))"
   ]
  },
  {
   "cell_type": "markdown",
   "metadata": {},
   "source": [
    "# Assignment 2"
   ]
  },
  {
   "cell_type": "code",
   "execution_count": null,
   "metadata": {},
   "outputs": [],
   "source": [
    "# Use words.txt as the file name\n",
    "fname = input(\"Enter file name: \")\n",
    "fh = open(fname)\n",
    "c=0\n",
    "while True: \n",
    "    c += 1\n",
    "  \n",
    "    # Get next line from file \n",
    "    line = fh.readline() \n",
    "    line= line.upper()\n",
    "  \n",
    "    # if line is empty \n",
    "    # end of file is reached \n",
    "    if not line: \n",
    "        break\n",
    "    print(line.strip()) \n",
    "  \n"
   ]
  },
  {
   "cell_type": "markdown",
   "metadata": {},
   "source": [
    "# Assignment 3"
   ]
  },
  {
   "cell_type": "code",
   "execution_count": null,
   "metadata": {},
   "outputs": [],
   "source": [
    "# Use the file name mbox-short.txt as the file name\n",
    "fname = input(\"Enter file name: \")\n",
    "fh = open(fname)\n",
    "x=0.0\n",
    "tot=0.0\n",
    "for line in fh:\n",
    "    ctr=line.find('0')\n",
    "    if not line.startswith(\"X-DSPAM-Confidence:\") : \n",
    "        continue\n",
    "    x=x+(float)(line[ctr:])\n",
    "    tot=tot+1\n",
    "av=(x/tot)\n",
    "from math import log10, floor\n",
    "def round_sig(x, sig=12):\n",
    "    return round(x, sig-int(floor(log10(abs(x))))-1)\n",
    "av=round_sig(av)\n",
    "print(\"Average spam confidence: {}\".format(av))"
   ]
  },
  {
   "cell_type": "markdown",
   "metadata": {},
   "source": [
    "# Assignment 4"
   ]
  },
  {
   "cell_type": "code",
   "execution_count": null,
   "metadata": {},
   "outputs": [],
   "source": [
    "fname = input(\"Enter file name: \")\n",
    "fh = open(fname)\n",
    "lst = list()\n",
    "\n",
    "\n",
    "for line in fh:\n",
    "    word=line.split()\n",
    "    for element in word:\n",
    "        if element in lst:\n",
    "            continue\n",
    "        else:\n",
    "            lst.append(element)\n",
    "\n",
    "lst.sort()            \n",
    "print(lst)\n"
   ]
  },
  {
   "cell_type": "markdown",
   "metadata": {},
   "source": [
    "# Assignment 5"
   ]
  },
  {
   "cell_type": "code",
   "execution_count": null,
   "metadata": {},
   "outputs": [],
   "source": [
    "fname = input(\"Enter file name: \")\n",
    "if len(fname) < 1 : fname = \"mbox-short.txt\"\n",
    "\n",
    "fh = open(fname)\n",
    "lst = list()\n",
    "count = 0\n",
    "for line in fh:\n",
    "    line=line.rstrip()\n",
    "    if line==\"\":continue\n",
    "    l=line.split()\n",
    "    if l[0]==\"From\":\n",
    "        count=count+1\n",
    "        print(l[1])\n",
    "    \n",
    "        \n",
    "               \n",
    "print(\"There were\", count, \"lines in the file with From as the first word\")\n"
   ]
  },
  {
   "cell_type": "markdown",
   "metadata": {},
   "source": [
    "# Assignment 6"
   ]
  },
  {
   "cell_type": "code",
   "execution_count": null,
   "metadata": {},
   "outputs": [],
   "source": [
    "name = input(\"Enter file:\")\n",
    "if len(name) < 1 : name = \"mbox-short.txt\"\n",
    "handle = open(name)\n",
    "lst = list()\n",
    "x=list()\n",
    "for line in handle:\n",
    "    line=line.rstrip()\n",
    "    if line==\"\":continue\n",
    "    l=line.split()\n",
    "    if l[0]==\"From\":\n",
    "        x.append(l[1])\n",
    "c=dict()\n",
    "\n",
    "for y in x:\n",
    "    c[y]=c.get(y,0)+1\n",
    "bigct=None\n",
    "bigwd=None\n",
    "for word,count in c.items():\n",
    "    if bigct is None or count>bigct:\n",
    "        bigwd=word\n",
    "        bigct=count\n",
    "print(bigwd,bigct)\n",
    "    \n"
   ]
  },
  {
   "cell_type": "markdown",
   "metadata": {},
   "source": [
    "# Assignment 7"
   ]
  },
  {
   "cell_type": "code",
   "execution_count": null,
   "metadata": {},
   "outputs": [],
   "source": [
    "name = input(\"Enter file:\")\n",
    "if len(name) < 1 : name = \"mbox-short.txt\"\n",
    "handle = open(name)\n",
    "lst = list()\n",
    "x=list()\n",
    "for line in handle:\n",
    "    line=line.rstrip()\n",
    "    if line==\"\":continue\n",
    "    l=line.split()\n",
    "    if l[0]==\"From\":\n",
    "        x.append(l[5])\n",
    "a=[i.split(\":\") for i in x]\n",
    "s=[i[0] for i in a]\n",
    "c=dict()\n",
    "for y in s:\n",
    "    c[y]=c.get(y,0)+1\n",
    "\n",
    "lst=list()\n",
    "for key,val in c.items():\n",
    "    newtup=(key,val)\n",
    "    lst.append(newtup)\n",
    "lsti=sorted(lst)\n",
    "for val,key in lsti:\n",
    "    print(val,key)\n",
    "\n"
   ]
  }
 ],
 "metadata": {
  "kernelspec": {
   "display_name": "Python 3",
   "language": "python",
   "name": "python3"
  },
  "language_info": {
   "codemirror_mode": {
    "name": "ipython",
    "version": 3
   },
   "file_extension": ".py",
   "mimetype": "text/x-python",
   "name": "python",
   "nbconvert_exporter": "python",
   "pygments_lexer": "ipython3",
   "version": "3.7.4"
  }
 },
 "nbformat": 4,
 "nbformat_minor": 2
}
